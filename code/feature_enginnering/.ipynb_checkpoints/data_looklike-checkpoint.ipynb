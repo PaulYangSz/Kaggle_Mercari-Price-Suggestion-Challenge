{
 "cells": [
  {
   "cell_type": "code",
   "execution_count": 2,
   "metadata": {
    "collapsed": true
   },
   "outputs": [],
   "source": [
    "# Take a look at the training data\n",
    "import os\n",
    "import pandas as pd\n",
    "import numpy as np\n",
    "import matplotlib.pyplot as plt\n",
    "%matplotlib inline\n",
    "import seaborn as sns"
   ]
  },
  {
   "cell_type": "code",
   "execution_count": 3,
   "metadata": {},
   "outputs": [
    {
     "name": "stdout",
     "output_type": "stream",
     "text": [
      "G:\\KaggleProject\\MercariPriceSuggestionChallenge\\code\\feature_enginnering\n"
     ]
    }
   ],
   "source": [
    "print(os.path.abspath(os.path.curdir))\n",
    "train_df = pd.read_csv('../../input/train.tsv', sep='\\t', engine = 'python')\n",
    "test_df = pd.read_csv('../../input/test.tsv', sep='\\t', engine = 'python')"
   ]
  },
  {
   "cell_type": "markdown",
   "metadata": {},
   "source": [
    "### 查看数据集的整体情况\n",
    "- 数据集的大小\n",
    "- 数据集的缺失情况\n",
    "- 每列数据的类型\n",
    "- 数值型数据的description"
   ]
  },
  {
   "cell_type": "code",
   "execution_count": 4,
   "metadata": {},
   "outputs": [
    {
     "name": "stdout",
     "output_type": "stream",
     "text": [
      "train shape: (1482535, 8)\n",
      "\n",
      "test shape: (693359, 7)\n",
      "\n",
      "train is null: \n",
      "train_id             False\n",
      "name                 False\n",
      "item_condition_id    False\n",
      "category_name         True\n",
      "brand_name            True\n",
      "price                False\n",
      "shipping             False\n",
      "item_description      True\n",
      "dtype: bool\n",
      "\n",
      "test is null: \n",
      "test_id              False\n",
      "name                 False\n",
      "item_condition_id    False\n",
      "category_name         True\n",
      "brand_name            True\n",
      "shipping             False\n",
      "item_description     False\n",
      "dtype: bool\n",
      "\n",
      "<class 'pandas.core.frame.DataFrame'>\n",
      "RangeIndex: 1482535 entries, 0 to 1482534\n",
      "Data columns (total 8 columns):\n",
      "train_id             1482535 non-null int64\n",
      "name                 1482535 non-null object\n",
      "item_condition_id    1482535 non-null int64\n",
      "category_name        1476208 non-null object\n",
      "brand_name           849853 non-null object\n",
      "price                1482535 non-null float64\n",
      "shipping             1482535 non-null int64\n",
      "item_description     1482531 non-null object\n",
      "dtypes: float64(1), int64(3), object(4)\n",
      "memory usage: 90.5+ MB\n"
     ]
    },
    {
     "data": {
      "text/html": [
       "<div>\n",
       "<style>\n",
       "    .dataframe thead tr:only-child th {\n",
       "        text-align: right;\n",
       "    }\n",
       "\n",
       "    .dataframe thead th {\n",
       "        text-align: left;\n",
       "    }\n",
       "\n",
       "    .dataframe tbody tr th {\n",
       "        vertical-align: top;\n",
       "    }\n",
       "</style>\n",
       "<table border=\"1\" class=\"dataframe\">\n",
       "  <thead>\n",
       "    <tr style=\"text-align: right;\">\n",
       "      <th></th>\n",
       "      <th>train_id</th>\n",
       "      <th>item_condition_id</th>\n",
       "      <th>price</th>\n",
       "      <th>shipping</th>\n",
       "    </tr>\n",
       "  </thead>\n",
       "  <tbody>\n",
       "    <tr>\n",
       "      <th>count</th>\n",
       "      <td>1.482535e+06</td>\n",
       "      <td>1.482535e+06</td>\n",
       "      <td>1.482535e+06</td>\n",
       "      <td>1.482535e+06</td>\n",
       "    </tr>\n",
       "    <tr>\n",
       "      <th>mean</th>\n",
       "      <td>7.412670e+05</td>\n",
       "      <td>1.907380e+00</td>\n",
       "      <td>2.673752e+01</td>\n",
       "      <td>4.472744e-01</td>\n",
       "    </tr>\n",
       "    <tr>\n",
       "      <th>std</th>\n",
       "      <td>4.279711e+05</td>\n",
       "      <td>9.031586e-01</td>\n",
       "      <td>3.858607e+01</td>\n",
       "      <td>4.972124e-01</td>\n",
       "    </tr>\n",
       "    <tr>\n",
       "      <th>min</th>\n",
       "      <td>0.000000e+00</td>\n",
       "      <td>1.000000e+00</td>\n",
       "      <td>0.000000e+00</td>\n",
       "      <td>0.000000e+00</td>\n",
       "    </tr>\n",
       "    <tr>\n",
       "      <th>25%</th>\n",
       "      <td>3.706335e+05</td>\n",
       "      <td>1.000000e+00</td>\n",
       "      <td>1.000000e+01</td>\n",
       "      <td>0.000000e+00</td>\n",
       "    </tr>\n",
       "    <tr>\n",
       "      <th>50%</th>\n",
       "      <td>7.412670e+05</td>\n",
       "      <td>2.000000e+00</td>\n",
       "      <td>1.700000e+01</td>\n",
       "      <td>0.000000e+00</td>\n",
       "    </tr>\n",
       "    <tr>\n",
       "      <th>75%</th>\n",
       "      <td>1.111900e+06</td>\n",
       "      <td>3.000000e+00</td>\n",
       "      <td>2.900000e+01</td>\n",
       "      <td>1.000000e+00</td>\n",
       "    </tr>\n",
       "    <tr>\n",
       "      <th>max</th>\n",
       "      <td>1.482534e+06</td>\n",
       "      <td>5.000000e+00</td>\n",
       "      <td>2.009000e+03</td>\n",
       "      <td>1.000000e+00</td>\n",
       "    </tr>\n",
       "  </tbody>\n",
       "</table>\n",
       "</div>"
      ],
      "text/plain": [
       "           train_id  item_condition_id         price      shipping\n",
       "count  1.482535e+06       1.482535e+06  1.482535e+06  1.482535e+06\n",
       "mean   7.412670e+05       1.907380e+00  2.673752e+01  4.472744e-01\n",
       "std    4.279711e+05       9.031586e-01  3.858607e+01  4.972124e-01\n",
       "min    0.000000e+00       1.000000e+00  0.000000e+00  0.000000e+00\n",
       "25%    3.706335e+05       1.000000e+00  1.000000e+01  0.000000e+00\n",
       "50%    7.412670e+05       2.000000e+00  1.700000e+01  0.000000e+00\n",
       "75%    1.111900e+06       3.000000e+00  2.900000e+01  1.000000e+00\n",
       "max    1.482534e+06       5.000000e+00  2.009000e+03  1.000000e+00"
      ]
     },
     "execution_count": 4,
     "metadata": {},
     "output_type": "execute_result"
    }
   ],
   "source": [
    "print(\"train shape: {}\\n\".format(train_df.shape))\n",
    "print(\"test shape: {}\\n\".format(test_df.shape))\n",
    "print(\"train is null: \\n{}\\n\".format(train_df.isnull().any()))\n",
    "print(\"test is null: \\n{}\\n\".format(test_df.isnull().any()))\n",
    "train_df.info()\n",
    "train_df.describe()"
   ]
  },
  {
   "cell_type": "code",
   "execution_count": 5,
   "metadata": {},
   "outputs": [
    {
     "data": {
      "text/html": [
       "<div>\n",
       "<style>\n",
       "    .dataframe thead tr:only-child th {\n",
       "        text-align: right;\n",
       "    }\n",
       "\n",
       "    .dataframe thead th {\n",
       "        text-align: left;\n",
       "    }\n",
       "\n",
       "    .dataframe tbody tr th {\n",
       "        vertical-align: top;\n",
       "    }\n",
       "</style>\n",
       "<table border=\"1\" class=\"dataframe\">\n",
       "  <thead>\n",
       "    <tr style=\"text-align: right;\">\n",
       "      <th></th>\n",
       "      <th>train_id</th>\n",
       "      <th>name</th>\n",
       "      <th>item_condition_id</th>\n",
       "      <th>category_name</th>\n",
       "      <th>brand_name</th>\n",
       "      <th>price</th>\n",
       "      <th>shipping</th>\n",
       "      <th>item_description</th>\n",
       "    </tr>\n",
       "  </thead>\n",
       "  <tbody>\n",
       "    <tr>\n",
       "      <th>0</th>\n",
       "      <td>0</td>\n",
       "      <td>MLB Cincinnati Reds T Shirt Size XL</td>\n",
       "      <td>3</td>\n",
       "      <td>Men/Tops/T-shirts</td>\n",
       "      <td>NaN</td>\n",
       "      <td>10.0</td>\n",
       "      <td>1</td>\n",
       "      <td>No description yet</td>\n",
       "    </tr>\n",
       "    <tr>\n",
       "      <th>1</th>\n",
       "      <td>1</td>\n",
       "      <td>Razer BlackWidow Chroma Keyboard</td>\n",
       "      <td>3</td>\n",
       "      <td>Electronics/Computers &amp; Tablets/Components &amp; P...</td>\n",
       "      <td>Razer</td>\n",
       "      <td>52.0</td>\n",
       "      <td>0</td>\n",
       "      <td>This keyboard is in great condition and works ...</td>\n",
       "    </tr>\n",
       "    <tr>\n",
       "      <th>2</th>\n",
       "      <td>2</td>\n",
       "      <td>AVA-VIV Blouse</td>\n",
       "      <td>1</td>\n",
       "      <td>Women/Tops &amp; Blouses/Blouse</td>\n",
       "      <td>Target</td>\n",
       "      <td>10.0</td>\n",
       "      <td>1</td>\n",
       "      <td>Adorable top with a hint of lace and a key hol...</td>\n",
       "    </tr>\n",
       "    <tr>\n",
       "      <th>3</th>\n",
       "      <td>3</td>\n",
       "      <td>Leather Horse Statues</td>\n",
       "      <td>1</td>\n",
       "      <td>Home/Home D茅cor/Home D茅cor Accents</td>\n",
       "      <td>NaN</td>\n",
       "      <td>35.0</td>\n",
       "      <td>1</td>\n",
       "      <td>New with tags. Leather horses. Retail for [rm]...</td>\n",
       "    </tr>\n",
       "    <tr>\n",
       "      <th>4</th>\n",
       "      <td>4</td>\n",
       "      <td>24K GOLD plated rose</td>\n",
       "      <td>1</td>\n",
       "      <td>Women/Jewelry/Necklaces</td>\n",
       "      <td>NaN</td>\n",
       "      <td>44.0</td>\n",
       "      <td>0</td>\n",
       "      <td>Complete with certificate of authenticity</td>\n",
       "    </tr>\n",
       "  </tbody>\n",
       "</table>\n",
       "</div>"
      ],
      "text/plain": [
       "   train_id                                 name  item_condition_id  \\\n",
       "0         0  MLB Cincinnati Reds T Shirt Size XL                  3   \n",
       "1         1     Razer BlackWidow Chroma Keyboard                  3   \n",
       "2         2                       AVA-VIV Blouse                  1   \n",
       "3         3                Leather Horse Statues                  1   \n",
       "4         4                 24K GOLD plated rose                  1   \n",
       "\n",
       "                                       category_name brand_name  price  \\\n",
       "0                                  Men/Tops/T-shirts        NaN   10.0   \n",
       "1  Electronics/Computers & Tablets/Components & P...      Razer   52.0   \n",
       "2                        Women/Tops & Blouses/Blouse     Target   10.0   \n",
       "3                 Home/Home D茅cor/Home D茅cor Accents        NaN   35.0   \n",
       "4                            Women/Jewelry/Necklaces        NaN   44.0   \n",
       "\n",
       "   shipping                                   item_description  \n",
       "0         1                                 No description yet  \n",
       "1         0  This keyboard is in great condition and works ...  \n",
       "2         1  Adorable top with a hint of lace and a key hol...  \n",
       "3         1  New with tags. Leather horses. Retail for [rm]...  \n",
       "4         0          Complete with certificate of authenticity  "
      ]
     },
     "execution_count": 5,
     "metadata": {},
     "output_type": "execute_result"
    }
   ],
   "source": [
    "train_df.head()"
   ]
  },
  {
   "cell_type": "markdown",
   "metadata": {},
   "source": [
    "下面开始逐列分析各自的数据情况和特点。\n",
    "### - 目标列：Price\n",
    "分析这一列数据的分布情况，然后对其做log转换"
   ]
  },
  {
   "cell_type": "code",
   "execution_count": 6,
   "metadata": {},
   "outputs": [
    {
     "data": {
      "image/png": "[encoded data removed]",
      "text/plain": [
       "<matplotlib.figure.Figure at 0x23a91744ba8>"
      ]
     },
     "metadata": {},
     "output_type": "display_data"
    }
   ],
   "source": [
    "plt.subplot(1, 2, 1)\n",
    "(train_df['price']).plot.hist(bins=50, figsize=(20,10), edgecolor='white',range=[0,250])\n",
    "plt.xlabel('price+', fontsize=17)\n",
    "plt.ylabel('frequency', fontsize=17)\n",
    "plt.tick_params(labelsize=15)\n",
    "plt.title('Price Distribution - Training Set', fontsize=17)\n",
    "\n",
    "plt.subplot(1, 2, 2)\n",
    "np.log(train_df['price']+1).plot.hist(bins=50, figsize=(20,10), edgecolor='white')\n",
    "plt.xlabel('log(price+1)', fontsize=17)\n",
    "plt.ylabel('frequency', fontsize=17)\n",
    "plt.tick_params(labelsize=15)\n",
    "plt.title('Log(Price) Distribution - Training Set', fontsize=17)\n",
    "plt.show()"
   ]
  },
  {
   "cell_type": "markdown",
   "metadata": {},
   "source": [
    "### - Shipping\n",
    "分析包邮和不包邮的数目情况和价格分布情况。"
   ]
  },
  {
   "cell_type": "code",
   "execution_count": 7,
   "metadata": {},
   "outputs": [
    {
     "name": "stdout",
     "output_type": "stream",
     "text": [
      "查看卖家包邮shipping = 1，和不包邮shipping = 0占的比例，以及覆盖的价格分布\n",
      "0    0.552726\n",
      "1    0.447274\n",
      "Name: shipping, dtype: float64\n"
     ]
    },
    {
     "data": {
      "image/png": "[encoded data removed]",
      "text/plain": [
       "<matplotlib.figure.Figure at 0x23a917cec88>"
      ]
     },
     "metadata": {},
     "output_type": "display_data"
    }
   ],
   "source": [
    "print(\"查看卖家包邮shipping = 1，和不包邮shipping = 0占的比例，以及覆盖的价格分布\")\n",
    "print(train_df['shipping'].value_counts()/len(train_df))\n",
    "price_shipBySeller = train_df.loc[train_df['shipping']==1, 'price']\n",
    "price_shipByBuyer = train_df.loc[train_df['shipping']==0, 'price']\n",
    "\n",
    "fig, ax = plt.subplots(figsize=(20,10))\n",
    "ax.hist(np.log(price_shipBySeller+1), color='#8CB4E1', alpha=1.0, bins=50,\n",
    "       label='Price when Seller pays Shipping')\n",
    "ax.hist(np.log(price_shipByBuyer+1), color='#007D00', alpha=0.7, bins=50,\n",
    "       label='Price when Buyer pays Shipping')\n",
    "ax.set(title='Histogram Comparison', ylabel='% of Dataset in Bin')\n",
    "ax.legend(loc='best', fontsize=14)  # 把上面设置的图例（legend）创建生效\n",
    "plt.xlabel('log(price+1)', fontsize=17)\n",
    "plt.ylabel('frequency', fontsize=17)\n",
    "plt.title('Price Distribution by Shipping Type', fontsize=17)\n",
    "plt.tick_params(labelsize=15)\n",
    "plt.show()"
   ]
  },
  {
   "cell_type": "markdown",
   "metadata": {
    "collapsed": true
   },
   "source": [
    "### - category_name\n",
    "统计category_name中出现的类别值的数目，Null值的情况，并对类别进行划分成子类。"
   ]
  },
  {
   "cell_type": "code",
   "execution_count": 11,
   "metadata": {},
   "outputs": [
    {
     "name": "stdout",
     "output_type": "stream",
     "text": [
      "There are 1287 unique values in the category column.\n",
      "\n",
      "Women/Athletic Apparel/Pants, Tights, Leggings    60177\n",
      "Women/Tops & Blouses/T-Shirts                     46380\n",
      "Beauty/Makeup/Face                                34335\n",
      "Beauty/Makeup/Lips                                29910\n",
      "Electronics/Video Games & Consoles/Games          26557\n",
      "Name: category_name, dtype: int64\n",
      "\n",
      "There are 6327 items that do not have a label.\n",
      "\n"
     ]
    }
   ],
   "source": [
    "print(\"There are %d unique values in the category column.\\n\" % train_df['category_name'].nunique())\n",
    "print(train_df['category_name'].value_counts()[:5])\n",
    "print()\n",
    "print(\"There are %d items that do not have a label.\\n\" % train_df['category_name'].isnull().sum())"
   ]
  },
  {
   "cell_type": "code",
   "execution_count": 13,
   "metadata": {},
   "outputs": [
    {
     "data": {
      "text/html": [
       "<div>\n",
       "<style>\n",
       "    .dataframe thead tr:only-child th {\n",
       "        text-align: right;\n",
       "    }\n",
       "\n",
       "    .dataframe thead th {\n",
       "        text-align: left;\n",
       "    }\n",
       "\n",
       "    .dataframe tbody tr th {\n",
       "        vertical-align: top;\n",
       "    }\n",
       "</style>\n",
       "<table border=\"1\" class=\"dataframe\">\n",
       "  <thead>\n",
       "    <tr style=\"text-align: right;\">\n",
       "      <th></th>\n",
       "      <th>train_id</th>\n",
       "      <th>name</th>\n",
       "      <th>item_condition_id</th>\n",
       "      <th>category_name</th>\n",
       "      <th>brand_name</th>\n",
       "      <th>price</th>\n",
       "      <th>shipping</th>\n",
       "      <th>item_description</th>\n",
       "      <th>general_cat</th>\n",
       "      <th>subcat_1</th>\n",
       "      <th>subcat_2</th>\n",
       "    </tr>\n",
       "  </thead>\n",
       "  <tbody>\n",
       "    <tr>\n",
       "      <th>0</th>\n",
       "      <td>0</td>\n",
       "      <td>MLB Cincinnati Reds T Shirt Size XL</td>\n",
       "      <td>3</td>\n",
       "      <td>Men/Tops/T-shirts</td>\n",
       "      <td>NaN</td>\n",
       "      <td>10.0</td>\n",
       "      <td>1</td>\n",
       "      <td>No description yet</td>\n",
       "      <td>Men</td>\n",
       "      <td>Tops</td>\n",
       "      <td>T-shirts</td>\n",
       "    </tr>\n",
       "    <tr>\n",
       "      <th>1</th>\n",
       "      <td>1</td>\n",
       "      <td>Razer BlackWidow Chroma Keyboard</td>\n",
       "      <td>3</td>\n",
       "      <td>Electronics/Computers &amp; Tablets/Components &amp; P...</td>\n",
       "      <td>Razer</td>\n",
       "      <td>52.0</td>\n",
       "      <td>0</td>\n",
       "      <td>This keyboard is in great condition and works ...</td>\n",
       "      <td>Electronics</td>\n",
       "      <td>Computers &amp; Tablets</td>\n",
       "      <td>Components &amp; Parts</td>\n",
       "    </tr>\n",
       "    <tr>\n",
       "      <th>2</th>\n",
       "      <td>2</td>\n",
       "      <td>AVA-VIV Blouse</td>\n",
       "      <td>1</td>\n",
       "      <td>Women/Tops &amp; Blouses/Blouse</td>\n",
       "      <td>Target</td>\n",
       "      <td>10.0</td>\n",
       "      <td>1</td>\n",
       "      <td>Adorable top with a hint of lace and a key hol...</td>\n",
       "      <td>Women</td>\n",
       "      <td>Tops &amp; Blouses</td>\n",
       "      <td>Blouse</td>\n",
       "    </tr>\n",
       "    <tr>\n",
       "      <th>3</th>\n",
       "      <td>3</td>\n",
       "      <td>Leather Horse Statues</td>\n",
       "      <td>1</td>\n",
       "      <td>Home/Home D茅cor/Home D茅cor Accents</td>\n",
       "      <td>NaN</td>\n",
       "      <td>35.0</td>\n",
       "      <td>1</td>\n",
       "      <td>New with tags. Leather horses. Retail for [rm]...</td>\n",
       "      <td>Home</td>\n",
       "      <td>Home D茅cor</td>\n",
       "      <td>Home D茅cor Accents</td>\n",
       "    </tr>\n",
       "    <tr>\n",
       "      <th>4</th>\n",
       "      <td>4</td>\n",
       "      <td>24K GOLD plated rose</td>\n",
       "      <td>1</td>\n",
       "      <td>Women/Jewelry/Necklaces</td>\n",
       "      <td>NaN</td>\n",
       "      <td>44.0</td>\n",
       "      <td>0</td>\n",
       "      <td>Complete with certificate of authenticity</td>\n",
       "      <td>Women</td>\n",
       "      <td>Jewelry</td>\n",
       "      <td>Necklaces</td>\n",
       "    </tr>\n",
       "  </tbody>\n",
       "</table>\n",
       "</div>"
      ],
      "text/plain": [
       "   train_id                                 name  item_condition_id  \\\n",
       "0         0  MLB Cincinnati Reds T Shirt Size XL                  3   \n",
       "1         1     Razer BlackWidow Chroma Keyboard                  3   \n",
       "2         2                       AVA-VIV Blouse                  1   \n",
       "3         3                Leather Horse Statues                  1   \n",
       "4         4                 24K GOLD plated rose                  1   \n",
       "\n",
       "                                       category_name brand_name  price  \\\n",
       "0                                  Men/Tops/T-shirts        NaN   10.0   \n",
       "1  Electronics/Computers & Tablets/Components & P...      Razer   52.0   \n",
       "2                        Women/Tops & Blouses/Blouse     Target   10.0   \n",
       "3                 Home/Home D茅cor/Home D茅cor Accents        NaN   35.0   \n",
       "4                            Women/Jewelry/Necklaces        NaN   44.0   \n",
       "\n",
       "   shipping                                   item_description  general_cat  \\\n",
       "0         1                                 No description yet          Men   \n",
       "1         0  This keyboard is in great condition and works ...  Electronics   \n",
       "2         1  Adorable top with a hint of lace and a key hol...        Women   \n",
       "3         1  New with tags. Leather horses. Retail for [rm]...         Home   \n",
       "4         0          Complete with certificate of authenticity        Women   \n",
       "\n",
       "              subcat_1            subcat_2  \n",
       "0                 Tops            T-shirts  \n",
       "1  Computers & Tablets  Components & Parts  \n",
       "2       Tops & Blouses              Blouse  \n",
       "3           Home D茅cor  Home D茅cor Accents  \n",
       "4              Jewelry           Necklaces  "
      ]
     },
     "execution_count": 13,
     "metadata": {},
     "output_type": "execute_result"
    }
   ],
   "source": [
    "# reference: BuryBuryZymon at https://www.kaggle.com/maheshdadhich/i-will-sell-everything-for-free-0-55\n",
    "def split_cat(text):\n",
    "    try: return text.split(\"/\")\n",
    "    except: return (\"No Label\", \"No Label\", \"No Label\")\n",
    "train_df['general_cat'], train_df['subcat_1'], train_df['subcat_2'] = zip(*train_df['category_name'].apply(lambda x: split_cat(x)))\n",
    "train_df.head()"
   ]
  },
  {
   "cell_type": "code",
   "execution_count": 14,
   "metadata": {},
   "outputs": [
    {
     "name": "stdout",
     "output_type": "stream",
     "text": [
      "There are 11 unique general_cat.\n",
      "There are 114 unique first sub-categories.\n",
      "There are 871 unique second sub-categories.\n"
     ]
    },
    {
     "data": {
      "text/plain": [
       "Women                     664385\n",
       "Beauty                    207828\n",
       "Kids                      171689\n",
       "Electronics               122690\n",
       "Men                        93680\n",
       "Home                       67871\n",
       "Vintage & Collectibles     46530\n",
       "Other                      45351\n",
       "Handmade                   30842\n",
       "Sports & Outdoors          25342\n",
       "No Label                    6327\n",
       "Name: general_cat, dtype: int64"
      ]
     },
     "execution_count": 14,
     "metadata": {},
     "output_type": "execute_result"
    }
   ],
   "source": [
    "print(\"There are %d unique general_cat.\" % train_df['general_cat'].nunique())\n",
    "print(\"There are %d unique first sub-categories.\" % train_df['subcat_1'].nunique())\n",
    "print(\"There are %d unique second sub-categories.\" % train_df['subcat_2'].nunique())\n",
    "\n",
    "train_df['general_cat'].value_counts()"
   ]
  },
  {
   "cell_type": "code",
   "execution_count": 16,
   "metadata": {},
   "outputs": [
    {
     "data": {
      "text/html": [
       "<script>requirejs.config({paths: { 'plotly': ['https://cdn.plot.ly/plotly-latest.min']},});if(!window.Plotly) {{require(['plotly'],function(plotly) {window.Plotly=plotly;});}}</script>"
      ],
      "text/vnd.plotly.v1+html": [
       "<script>requirejs.config({paths: { 'plotly': ['https://cdn.plot.ly/plotly-latest.min']},});if(!window.Plotly) {{require(['plotly'],function(plotly) {window.Plotly=plotly;});}}</script>"
      ]
     },
     "metadata": {},
     "output_type": "display_data"
    },
    {
     "data": {
      "application/vnd.plotly.v1+json": {
       "data": [
        {
         "text": [
          "44.81%",
          "14.02%",
          "11.58%",
          "8.28%",
          "6.32%",
          "4.58%",
          "3.14%",
          "3.06%",
          "2.08%",
          "1.71%",
          "0.43%"
         ],
         "type": "bar",
         "x": [
          "Women",
          "Beauty",
          "Kids",
          "Electronics",
          "Men",
          "Home",
          "Vintage & Collectibles",
          "Other",
          "Handmade",
          "Sports & Outdoors",
          "No Label"
         ],
         "y": [
          664385,
          207828,
          171689,
          122690,
          93680,
          67871,
          46530,
          45351,
          30842,
          25342,
          6327
         ]
        }
       ],
       "layout": {
        "title": "Number of Items by Main Category",
        "xaxis": {
         "title": "Category"
        },
        "yaxis": {
         "title": "Count"
        }
       }
      },
      "text/html": [
       "<div id=\"22cc8711-8251-48ff-bb44-06b988b90bae\" style=\"height: 525px; width: 100%;\" class=\"plotly-graph-div\"></div><script type=\"text/javascript\">require([\"plotly\"], function(Plotly) { window.PLOTLYENV=window.PLOTLYENV || {};window.PLOTLYENV.BASE_URL=\"https://plot.ly\";Plotly.newPlot(\"22cc8711-8251-48ff-bb44-06b988b90bae\", [{\"text\": [\"44.81%\", \"14.02%\", \"11.58%\", \"8.28%\", \"6.32%\", \"4.58%\", \"3.14%\", \"3.06%\", \"2.08%\", \"1.71%\", \"0.43%\"], \"x\": [\"Women\", \"Beauty\", \"Kids\", \"Electronics\", \"Men\", \"Home\", \"Vintage & Collectibles\", \"Other\", \"Handmade\", \"Sports & Outdoors\", \"No Label\"], \"type\": \"bar\", \"y\": [664385, 207828, 171689, 122690, 93680, 67871, 46530, 45351, 30842, 25342, 6327]}], {\"xaxis\": {\"title\": \"Category\"}, \"yaxis\": {\"title\": \"Count\"}, \"title\": \"Number of Items by Main Category\"}, {\"showLink\": true, \"linkText\": \"Export to plot.ly\"})});</script>"
      ],
      "text/vnd.plotly.v1+html": [
       "<div id=\"22cc8711-8251-48ff-bb44-06b988b90bae\" style=\"height: 525px; width: 100%;\" class=\"plotly-graph-div\"></div><script type=\"text/javascript\">require([\"plotly\"], function(Plotly) { window.PLOTLYENV=window.PLOTLYENV || {};window.PLOTLYENV.BASE_URL=\"https://plot.ly\";Plotly.newPlot(\"22cc8711-8251-48ff-bb44-06b988b90bae\", [{\"text\": [\"44.81%\", \"14.02%\", \"11.58%\", \"8.28%\", \"6.32%\", \"4.58%\", \"3.14%\", \"3.06%\", \"2.08%\", \"1.71%\", \"0.43%\"], \"x\": [\"Women\", \"Beauty\", \"Kids\", \"Electronics\", \"Men\", \"Home\", \"Vintage & Collectibles\", \"Other\", \"Handmade\", \"Sports & Outdoors\", \"No Label\"], \"type\": \"bar\", \"y\": [664385, 207828, 171689, 122690, 93680, 67871, 46530, 45351, 30842, 25342, 6327]}], {\"xaxis\": {\"title\": \"Category\"}, \"yaxis\": {\"title\": \"Count\"}, \"title\": \"Number of Items by Main Category\"}, {\"showLink\": true, \"linkText\": \"Export to plot.ly\"})});</script>"
      ]
     },
     "metadata": {},
     "output_type": "display_data"
    }
   ],
   "source": [
    "import plotly.graph_objs as go\n",
    "import plotly.offline as py\n",
    "py.init_notebook_mode(connected=True)\n",
    "\n",
    "x = train_df['general_cat'].value_counts().index.values.astype('str')\n",
    "y = train_df['general_cat'].value_counts().values\n",
    "pct = [(\"%.2f\"%(v*100))+\"%\"for v in (y/len(train_df))]\n",
    "\n",
    "trace1 = go.Bar(x=x, y=y, text=pct)\n",
    "layout = dict(title= 'Number of Items by Main Category',\n",
    "              yaxis = dict(title='Count'),\n",
    "              xaxis = dict(title='Category'))\n",
    "fig=dict(data=[trace1], layout=layout)\n",
    "py.iplot(fig)"
   ]
  },
  {
   "cell_type": "code",
   "execution_count": 17,
   "metadata": {},
   "outputs": [
    {
     "data": {
      "application/vnd.plotly.v1+json": {
       "data": [
        {
         "marker": {
          "color": [
           134383,
           124624,
           106960,
           100452,
           61763,
           58158,
           53290,
           45862,
           45758,
           42350,
           36130,
           35971,
           35752,
           33784,
           29838
          ],
          "colorscale": "Portland",
          "reversescale": false,
          "showscale": true
         },
         "text": [
          "9.06%",
          "8.41%",
          "7.21%",
          "6.78%",
          "4.17%",
          "3.92%",
          "3.59%",
          "3.09%",
          "3.09%",
          "2.86%",
          "2.44%",
          "2.43%",
          "2.41%",
          "2.28%",
          "2.01%"
         ],
         "type": "bar",
         "x": [
          "Athletic Apparel",
          "Makeup",
          "Tops & Blouses",
          "Shoes",
          "Jewelry",
          "Toys",
          "Cell Phones & Accessories",
          "Women's Handbags",
          "Dresses",
          "Women's Accessories",
          "Jeans",
          "Video Games & Consoles",
          "Sweaters",
          "Underwear",
          "Skin Care"
         ],
         "y": [
          134383,
          124624,
          106960,
          100452,
          61763,
          58158,
          53290,
          45862,
          45758,
          42350,
          36130,
          35971,
          35752,
          33784,
          29838
         ]
        }
       ],
       "layout": {
        "title": "Number of Items by Sub Category (Top 15)",
        "xaxis": {
         "title": "SubCategory"
        },
        "yaxis": {
         "title": "Count"
        }
       }
      },
      "text/html": [
       "<div id=\"569fb281-3fa2-42e1-815a-d9ce490cf8f4\" style=\"height: 525px; width: 100%;\" class=\"plotly-graph-div\"></div><script type=\"text/javascript\">require([\"plotly\"], function(Plotly) { window.PLOTLYENV=window.PLOTLYENV || {};window.PLOTLYENV.BASE_URL=\"https://plot.ly\";Plotly.newPlot(\"569fb281-3fa2-42e1-815a-d9ce490cf8f4\", [{\"text\": [\"9.06%\", \"8.41%\", \"7.21%\", \"6.78%\", \"4.17%\", \"3.92%\", \"3.59%\", \"3.09%\", \"3.09%\", \"2.86%\", \"2.44%\", \"2.43%\", \"2.41%\", \"2.28%\", \"2.01%\"], \"marker\": {\"showscale\": true, \"reversescale\": false, \"colorscale\": \"Portland\", \"color\": [134383, 124624, 106960, 100452, 61763, 58158, 53290, 45862, 45758, 42350, 36130, 35971, 35752, 33784, 29838]}, \"x\": [\"Athletic Apparel\", \"Makeup\", \"Tops & Blouses\", \"Shoes\", \"Jewelry\", \"Toys\", \"Cell Phones & Accessories\", \"Women's Handbags\", \"Dresses\", \"Women's Accessories\", \"Jeans\", \"Video Games & Consoles\", \"Sweaters\", \"Underwear\", \"Skin Care\"], \"type\": \"bar\", \"y\": [134383, 124624, 106960, 100452, 61763, 58158, 53290, 45862, 45758, 42350, 36130, 35971, 35752, 33784, 29838]}], {\"xaxis\": {\"title\": \"SubCategory\"}, \"yaxis\": {\"title\": \"Count\"}, \"title\": \"Number of Items by Sub Category (Top 15)\"}, {\"showLink\": true, \"linkText\": \"Export to plot.ly\"})});</script>"
      ],
      "text/vnd.plotly.v1+html": [
       "<div id=\"569fb281-3fa2-42e1-815a-d9ce490cf8f4\" style=\"height: 525px; width: 100%;\" class=\"plotly-graph-div\"></div><script type=\"text/javascript\">require([\"plotly\"], function(Plotly) { window.PLOTLYENV=window.PLOTLYENV || {};window.PLOTLYENV.BASE_URL=\"https://plot.ly\";Plotly.newPlot(\"569fb281-3fa2-42e1-815a-d9ce490cf8f4\", [{\"text\": [\"9.06%\", \"8.41%\", \"7.21%\", \"6.78%\", \"4.17%\", \"3.92%\", \"3.59%\", \"3.09%\", \"3.09%\", \"2.86%\", \"2.44%\", \"2.43%\", \"2.41%\", \"2.28%\", \"2.01%\"], \"marker\": {\"showscale\": true, \"reversescale\": false, \"colorscale\": \"Portland\", \"color\": [134383, 124624, 106960, 100452, 61763, 58158, 53290, 45862, 45758, 42350, 36130, 35971, 35752, 33784, 29838]}, \"x\": [\"Athletic Apparel\", \"Makeup\", \"Tops & Blouses\", \"Shoes\", \"Jewelry\", \"Toys\", \"Cell Phones & Accessories\", \"Women's Handbags\", \"Dresses\", \"Women's Accessories\", \"Jeans\", \"Video Games & Consoles\", \"Sweaters\", \"Underwear\", \"Skin Care\"], \"type\": \"bar\", \"y\": [134383, 124624, 106960, 100452, 61763, 58158, 53290, 45862, 45758, 42350, 36130, 35971, 35752, 33784, 29838]}], {\"xaxis\": {\"title\": \"SubCategory\"}, \"yaxis\": {\"title\": \"Count\"}, \"title\": \"Number of Items by Sub Category (Top 15)\"}, {\"showLink\": true, \"linkText\": \"Export to plot.ly\"})});</script>"
      ]
     },
     "metadata": {},
     "output_type": "display_data"
    }
   ],
   "source": [
    "x = train_df['subcat_1'].value_counts().index.values.astype('str')[:15]\n",
    "y = train_df['subcat_1'].value_counts().values[:15]\n",
    "pct = [(\"%.2f\"%(v*100))+\"%\"for v in (y/len(train_df))][:15]\n",
    "\n",
    "trace1 = go.Bar(x=x, y=y, text=pct,\n",
    "                marker=dict(\n",
    "                color = y,colorscale='Portland',showscale=True,\n",
    "                reversescale = False\n",
    "                ))\n",
    "layout = dict(title= 'Number of Items by Sub Category (Top 15)',\n",
    "              yaxis = dict(title='Count'),\n",
    "              xaxis = dict(title='SubCategory'))\n",
    "fig=dict(data=[trace1], layout=layout)\n",
    "py.iplot(fig)\n"
   ]
  },
  {
   "cell_type": "code",
   "execution_count": 20,
   "metadata": {},
   "outputs": [
    {
     "name": "stderr",
     "output_type": "stream",
     "text": [
      "IOPub data rate exceeded.\n",
      "The notebook server will temporarily stop sending output\n",
      "to the client in order to avoid crashing it.\n",
      "To change this limit, set the config variable\n",
      "`--NotebookApp.iopub_data_rate_limit`.\n"
     ]
    }
   ],
   "source": [
    "# From the pricing (log of price) point of view, all the categories are pretty well distributed, \n",
    "# with no category with an extraordinary pricing point \n",
    "\n",
    "general_cats = train_df['general_cat'].unique()\n",
    "x = [train_df.loc[train_df['general_cat']==cat, 'price'] for cat in general_cats]\n",
    "\n",
    "data = [go.Box(x=np.log(x[i]+1), name=general_cats[i]) for i in range(len(general_cats))]\n",
    "\n",
    "layout = dict(title=\"Price Distribution by General Category\",\n",
    "              yaxis = dict(title='Frequency'),\n",
    "              xaxis = dict(title='Category'))\n",
    "fig = dict(data=data, layout=layout)\n",
    "py.iplot(fig)"
   ]
  },
  {
   "cell_type": "code",
   "execution_count": null,
   "metadata": {
    "collapsed": true
   },
   "outputs": [],
   "source": []
  }
 ],
 "metadata": {
  "kernelspec": {
   "display_name": "Python 3",
   "language": "python",
   "name": "python3"
  },
  "language_info": {
   "codemirror_mode": {
    "name": "ipython",
    "version": 3
   },
   "file_extension": ".py",
   "mimetype": "text/x-python",
   "name": "python",
   "nbconvert_exporter": "python",
   "pygments_lexer": "ipython3",
   "version": "3.5.3"
  }
 },
 "nbformat": 4,
 "nbformat_minor": 1
}
